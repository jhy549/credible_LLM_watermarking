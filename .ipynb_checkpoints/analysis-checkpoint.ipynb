{
 "cells": [
  {
   "cell_type": "code",
   "execution_count": 1,
   "metadata": {
    "pycharm": {
     "name": "#%%\n"
    }
   },
   "outputs": [
    {
     "name": "stderr",
     "output_type": "stream",
     "text": [
      "/home/jianghaoyu/anaconda3/envs/kgw/lib/python3.11/site-packages/tqdm/auto.py:21: TqdmWarning: IProgress not found. Please update jupyter and ipywidgets. See https://ipywidgets.readthedocs.io/en/stable/user_install.html\n",
      "  from .autonotebook import tqdm as notebook_tqdm\n"
     ]
    }
   ],
   "source": [
    "from watermarking.arg_classes.wm_arg_class import WmRandomArgs, WmNoneArgs, WmLMArgs\n",
    "from watermarking.utils.analysis_utils import concatenate_lists_in_nested_dicts, average_lists_in_nested_dicts"
   ]
  },
  {
   "cell_type": "code",
   "execution_count": 2,
   "metadata": {
    "pycharm": {
     "name": "#%%\n"
    }
   },
   "outputs": [],
   "source": [
    "def fn(delta,message_model_strategy='vanilla',lm_prefix_len=10,encode_ratio=5.,\n",
    "    sample_num = 50,random_num=50,lm_top_k=-1,lm_model_name = 'same'):\n",
    "    sample_seeds = [44,45]\n",
    "    results = []\n",
    "    for sample_seed in sample_seeds:\n",
    "        args = WmLMArgs(delta=delta, sample_seed=sample_seed,sample_num=sample_num,random_permutation_num=random_num,\n",
    "            message_model_strategy=message_model_strategy,lm_prefix_len=lm_prefix_len,encode_ratio=encode_ratio,lm_top_k=lm_top_k,\n",
    "            lm_model_name = lm_model_name)\n",
    "        results.append(args.load_result())\n",
    "\n",
    "\n",
    "    all_result = concatenate_lists_in_nested_dicts(*results)\n",
    "    _ = average_lists_in_nested_dicts(all_result)\n",
    "    return _['acc'], _['analysis']['ppls']"
   ]
  },
  {
   "cell_type": "code",
   "execution_count": 3,
   "metadata": {
    "pycharm": {
     "name": "#%%\n"
    }
   },
   "outputs": [
    {
     "ename": "FileNotFoundError",
     "evalue": "[Errno 2] No such file or directory: '/home/jianghaoyu/CTWL/my_watermark_result/lm_new_7_10/facebook-opt-1.3b_1.0_1.5_300_200_50_44_42_20_5.0_4_1.0_10_-1_50_vanilla_0.5_same_1000.json'",
     "output_type": "error",
     "traceback": [
      "\u001b[0;31m---------------------------------------------------------------------------\u001b[0m",
      "\u001b[0;31mFileNotFoundError\u001b[0m                         Traceback (most recent call last)",
      "Cell \u001b[0;32mIn[3], line 4\u001b[0m\n\u001b[1;32m      2\u001b[0m deltas \u001b[38;5;241m=\u001b[39m [\u001b[38;5;241m1.0\u001b[39m, \u001b[38;5;241m1.2\u001b[39m,\u001b[38;5;241m1.35\u001b[39m,\u001b[38;5;241m1.5\u001b[39m, \u001b[38;5;241m1.8\u001b[39m, \u001b[38;5;241m2.0\u001b[39m, \u001b[38;5;241m2.5\u001b[39m, \u001b[38;5;241m3.0\u001b[39m]\n\u001b[1;32m      3\u001b[0m \u001b[38;5;28;01mfor\u001b[39;00m delta \u001b[38;5;129;01min\u001b[39;00m deltas:\n\u001b[0;32m----> 4\u001b[0m     points\u001b[38;5;241m.\u001b[39mappend(\u001b[43mfn\u001b[49m\u001b[43m(\u001b[49m\u001b[43mdelta\u001b[49m\u001b[43m,\u001b[49m\u001b[43mencode_ratio\u001b[49m\u001b[38;5;241;43m=\u001b[39;49m\u001b[38;5;241;43m5.\u001b[39;49m\u001b[43m)\u001b[49m)\n",
      "Cell \u001b[0;32mIn[2], line 9\u001b[0m, in \u001b[0;36mfn\u001b[0;34m(delta, message_model_strategy, lm_prefix_len, encode_ratio, sample_num, random_num, lm_top_k, lm_model_name)\u001b[0m\n\u001b[1;32m      5\u001b[0m \u001b[38;5;28;01mfor\u001b[39;00m sample_seed \u001b[38;5;129;01min\u001b[39;00m sample_seeds:\n\u001b[1;32m      6\u001b[0m     args \u001b[38;5;241m=\u001b[39m WmLMArgs(delta\u001b[38;5;241m=\u001b[39mdelta, sample_seed\u001b[38;5;241m=\u001b[39msample_seed,sample_num\u001b[38;5;241m=\u001b[39msample_num,random_permutation_num\u001b[38;5;241m=\u001b[39mrandom_num,\n\u001b[1;32m      7\u001b[0m         message_model_strategy\u001b[38;5;241m=\u001b[39mmessage_model_strategy,lm_prefix_len\u001b[38;5;241m=\u001b[39mlm_prefix_len,encode_ratio\u001b[38;5;241m=\u001b[39mencode_ratio,lm_top_k\u001b[38;5;241m=\u001b[39mlm_top_k,\n\u001b[1;32m      8\u001b[0m         lm_model_name \u001b[38;5;241m=\u001b[39m lm_model_name)\n\u001b[0;32m----> 9\u001b[0m     results\u001b[38;5;241m.\u001b[39mappend(\u001b[43margs\u001b[49m\u001b[38;5;241;43m.\u001b[39;49m\u001b[43mload_result\u001b[49m\u001b[43m(\u001b[49m\u001b[43m)\u001b[49m)\n\u001b[1;32m     12\u001b[0m all_result \u001b[38;5;241m=\u001b[39m concatenate_lists_in_nested_dicts(\u001b[38;5;241m*\u001b[39mresults)\n\u001b[1;32m     13\u001b[0m _ \u001b[38;5;241m=\u001b[39m average_lists_in_nested_dicts(all_result)\n",
      "File \u001b[0;32m~/CTWL/watermarking/arg_classes/wm_arg_class.py:67\u001b[0m, in \u001b[0;36mWmBaseArgs.load_result\u001b[0;34m(self)\u001b[0m\n\u001b[1;32m     65\u001b[0m \u001b[38;5;28;01mdef\u001b[39;00m \u001b[38;5;21mload_result\u001b[39m(\u001b[38;5;28mself\u001b[39m):\n\u001b[1;32m     66\u001b[0m     \u001b[38;5;28;01mimport\u001b[39;00m \u001b[38;5;21;01mjson\u001b[39;00m\n\u001b[0;32m---> 67\u001b[0m     \u001b[38;5;28;01mwith\u001b[39;00m \u001b[38;5;28;43mopen\u001b[39;49m\u001b[43m(\u001b[49m\u001b[38;5;28;43mself\u001b[39;49m\u001b[38;5;241;43m.\u001b[39;49m\u001b[43mcomplete_save_file_path\u001b[49m\u001b[43m,\u001b[49m\u001b[43m \u001b[49m\u001b[38;5;124;43m'\u001b[39;49m\u001b[38;5;124;43mr\u001b[39;49m\u001b[38;5;124;43m'\u001b[39;49m\u001b[43m)\u001b[49m \u001b[38;5;28;01mas\u001b[39;00m f:\n\u001b[1;32m     68\u001b[0m         result \u001b[38;5;241m=\u001b[39m json\u001b[38;5;241m.\u001b[39mload(f)\n\u001b[1;32m     69\u001b[0m     \u001b[38;5;28;01mreturn\u001b[39;00m result\n",
      "\u001b[0;31mFileNotFoundError\u001b[0m: [Errno 2] No such file or directory: '/home/jianghaoyu/CTWL/my_watermark_result/lm_new_7_10/facebook-opt-1.3b_1.0_1.5_300_200_50_44_42_20_5.0_4_1.0_10_-1_50_vanilla_0.5_same_1000.json'"
     ]
    }
   ],
   "source": [
    "points = []\n",
    "deltas = [1.0, 1.2,1.35,1.5, 1.8, 2.0, 2.5, 3.0]\n",
    "for delta in deltas:\n",
    "    points.append(fn(delta,encode_ratio=5.))"
   ]
  },
  {
   "cell_type": "code",
   "execution_count": null,
   "metadata": {
    "pycharm": {
     "name": "#%%\n"
    }
   },
   "outputs": [],
   "source": [
    "points"
   ]
  }
 ],
 "metadata": {
  "kernelspec": {
   "display_name": "kgw",
   "language": "python",
   "name": "kgw"
  },
  "language_info": {
   "codemirror_mode": {
    "name": "ipython",
    "version": 3
   },
   "file_extension": ".py",
   "mimetype": "text/x-python",
   "name": "python",
   "nbconvert_exporter": "python",
   "pygments_lexer": "ipython3",
   "version": "3.11.9"
  },
  "vscode": {
   "interpreter": {
    "hash": "69f52fabb15766d39c6bf90ba53c555c905cb082f5a671ecb5c4487727b3f015"
   }
  }
 },
 "nbformat": 4,
 "nbformat_minor": 2
}
